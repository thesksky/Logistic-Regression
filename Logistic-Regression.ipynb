{
 "cells": [
  {
   "cell_type": "code",
   "execution_count": 31,
   "id": "82bb7c87-5190-4ee8-bfd2-3ced64c3833a",
   "metadata": {},
   "outputs": [],
   "source": [
    "import pandas as pd\n",
    "import numpy as np\n",
    "import matplotlib.pyplot as plt\n",
    "\n",
    "from sklearn.datasets import load_breast_cancer\n",
    "\n",
    "from sklearn import preprocessing\n",
    "from sklearn.preprocessing import StandardScaler\n",
    "from sklearn.linear_model import LogisticRegression\n",
    "\n",
    "from sklearn.model_selection import train_test_split, cross_val_score, GridSearchCV\n",
    "from sklearn import metrics\n",
    "from sklearn.metrics import confusion_matrix, ConfusionMatrixDisplay, roc_auc_score, accuracy_score, classification_report, roc_curve, RocCurveDisplay"
   ]
  },
  {
   "cell_type": "markdown",
   "id": "f9585f9d-61e9-482f-ba8c-001ed444b40b",
   "metadata": {},
   "source": [
    "**Logistic Regression:**  \n",
    "Classifiers are a core component of machine learning models and can be applied across a variety of disciplines and problem statements.  \n",
    "- supervised  \n",
    "- for binary classification (although it can be extended to more than 2 categories, it predicts the probability of an outcome belonging to a 0/1)."
   ]
  },
  {
   "cell_type": "markdown",
   "id": "db2447de-4d81-46d5-8aa1-0255a1834a68",
   "metadata": {},
   "source": [
    "It uses the logistic function (the sigmoid function) to map the input features to a probability outcome score ranging from 0 to 1.  We set the threshold, typically .5. For example, if a datapoint probablity is .72, the model assigns it to class 1 as it is > .5. We can choose any threshold, for example, to be more stringent. For this medical dataset, negative outcomes (Benign) and positive outcomes (Malignant).\n",
    "\n",
    "**Cost Function** quantifies the error between predicted values and expected values.  \n",
    "The loss function for linear regression is squared loss.  \n",
    "The loss function for logistic regression is Log Loss.\n",
    "."
   ]
  },
  {
   "attachments": {
    "5d15534c-19af-482c-b5cf-c59f8d72905d.png": {
     "image/png": "[encoded data removed]"
    }
   },
   "cell_type": "markdown",
   "id": "3dd694d0-cace-4cf6-87bf-ea38c2a7234d",
   "metadata": {},
   "source": [
    "![image.png](attachment:5d15534c-19af-482c-b5cf-c59f8d72905d.png)"
   ]
  },
  {
   "cell_type": "markdown",
   "id": "71d6730a-6a07-4df7-be83-f2318fb519d5",
   "metadata": {},
   "source": [
    "- Find corrected probabilities.  \n",
    "- Take a log of corrected probabilities.  \n",
    "- Take the negative average of the values we get in the 2nd step.\n",
    "  \n",
    "Notice that, like any loss function should, this function is 0 when the predicted class of every point xi is equal to the true labels for each point yi. Training our classifier means finding the weights that minimize this function.  \n",
    "\n",
    "As the probability gets closer to the true value (p=0 when y=0 and p=1 when y=1), the Log-Loss decreases to 0. As the probability gets further from the true value, the Log-Loss approaches infinity. \n",
    "The training set can be considered as an implementation of the generalized Bernoulli scheme: for each object, a random variable is generated, which with probability p (its own for each datapoint) takes the value 1 with probability (1–p)-0.  \n",
    "To escape infinite improving of weights/parameters, the logistic regression applies penalties such as max amount of training or L2."
   ]
  },
  {
   "cell_type": "code",
   "execution_count": 3,
   "id": "f1cad26a-603e-4fd7-ba51-b12b349e9804",
   "metadata": {},
   "outputs": [
    {
     "data": {
      "text/plain": [
       "dict_keys(['data', 'target', 'frame', 'target_names', 'DESCR', 'feature_names', 'filename', 'data_module'])"
      ]
     },
     "execution_count": 3,
     "metadata": {},
     "output_type": "execute_result"
    }
   ],
   "source": [
    "# Let's use a sk-learn dataset as I have not used them before.  It classifies tumors as malignant or benign based on given features.\n",
    "# The dataset loads as a dictionary therefore we can print keys and values.\n",
    "cancer = load_breast_cancer()\n",
    "cancer.keys()"
   ]
  },
  {
   "cell_type": "code",
   "execution_count": 5,
   "id": "9b1c4f27-30d3-4b27-b60c-33cf8b7ca5cd",
   "metadata": {},
   "outputs": [
    {
     "name": "stdout",
     "output_type": "stream",
     "text": [
      "Benign 212 Malign 357\n"
     ]
    }
   ],
   "source": [
    "print('Benign {} Malign {}'.format((cancer['target']==0).sum(), (cancer['target']==1).sum()))"
   ]
  },
  {
   "cell_type": "code",
   "execution_count": 4,
   "id": "99541812-3b26-41c3-b142-c617e6b825d4",
   "metadata": {},
   "outputs": [
    {
     "data": {
      "text/html": [
       "<div>\n",
       "<style scoped>\n",
       "    .dataframe tbody tr th:only-of-type {\n",
       "        vertical-align: middle;\n",
       "    }\n",
       "\n",
       "    .dataframe tbody tr th {\n",
       "        vertical-align: top;\n",
       "    }\n",
       "\n",
       "    .dataframe thead tr th {\n",
       "        text-align: left;\n",
       "    }\n",
       "</style>\n",
       "<table border=\"1\" class=\"dataframe\">\n",
       "  <thead>\n",
       "    <tr>\n",
       "      <th></th>\n",
       "      <th>mean radius</th>\n",
       "      <th>mean texture</th>\n",
       "      <th>mean perimeter</th>\n",
       "      <th>mean area</th>\n",
       "      <th>mean smoothness</th>\n",
       "      <th>mean compactness</th>\n",
       "      <th>mean concavity</th>\n",
       "      <th>mean concave points</th>\n",
       "      <th>mean symmetry</th>\n",
       "      <th>mean fractal dimension</th>\n",
       "      <th>...</th>\n",
       "      <th>worst texture</th>\n",
       "      <th>worst perimeter</th>\n",
       "      <th>worst area</th>\n",
       "      <th>worst smoothness</th>\n",
       "      <th>worst compactness</th>\n",
       "      <th>worst concavity</th>\n",
       "      <th>worst concave points</th>\n",
       "      <th>worst symmetry</th>\n",
       "      <th>worst fractal dimension</th>\n",
       "      <th>target</th>\n",
       "    </tr>\n",
       "  </thead>\n",
       "  <tbody>\n",
       "    <tr>\n",
       "      <th>0</th>\n",
       "      <td>17.99</td>\n",
       "      <td>10.38</td>\n",
       "      <td>122.8</td>\n",
       "      <td>1001.0</td>\n",
       "      <td>0.11840</td>\n",
       "      <td>0.27760</td>\n",
       "      <td>0.3001</td>\n",
       "      <td>0.14710</td>\n",
       "      <td>0.2419</td>\n",
       "      <td>0.07871</td>\n",
       "      <td>...</td>\n",
       "      <td>17.33</td>\n",
       "      <td>184.6</td>\n",
       "      <td>2019.0</td>\n",
       "      <td>0.1622</td>\n",
       "      <td>0.6656</td>\n",
       "      <td>0.7119</td>\n",
       "      <td>0.2654</td>\n",
       "      <td>0.4601</td>\n",
       "      <td>0.11890</td>\n",
       "      <td>0</td>\n",
       "    </tr>\n",
       "    <tr>\n",
       "      <th>1</th>\n",
       "      <td>20.57</td>\n",
       "      <td>17.77</td>\n",
       "      <td>132.9</td>\n",
       "      <td>1326.0</td>\n",
       "      <td>0.08474</td>\n",
       "      <td>0.07864</td>\n",
       "      <td>0.0869</td>\n",
       "      <td>0.07017</td>\n",
       "      <td>0.1812</td>\n",
       "      <td>0.05667</td>\n",
       "      <td>...</td>\n",
       "      <td>23.41</td>\n",
       "      <td>158.8</td>\n",
       "      <td>1956.0</td>\n",
       "      <td>0.1238</td>\n",
       "      <td>0.1866</td>\n",
       "      <td>0.2416</td>\n",
       "      <td>0.1860</td>\n",
       "      <td>0.2750</td>\n",
       "      <td>0.08902</td>\n",
       "      <td>0</td>\n",
       "    </tr>\n",
       "  </tbody>\n",
       "</table>\n",
       "<p>2 rows × 31 columns</p>\n",
       "</div>"
      ],
      "text/plain": [
       "  mean radius mean texture mean perimeter mean area mean smoothness  \\\n",
       "0       17.99        10.38          122.8    1001.0         0.11840   \n",
       "1       20.57        17.77          132.9    1326.0         0.08474   \n",
       "\n",
       "  mean compactness mean concavity mean concave points mean symmetry  \\\n",
       "0          0.27760         0.3001             0.14710        0.2419   \n",
       "1          0.07864         0.0869             0.07017        0.1812   \n",
       "\n",
       "  mean fractal dimension  ... worst texture worst perimeter worst area  \\\n",
       "0                0.07871  ...         17.33           184.6     2019.0   \n",
       "1                0.05667  ...         23.41           158.8     1956.0   \n",
       "\n",
       "  worst smoothness worst compactness worst concavity worst concave points  \\\n",
       "0           0.1622            0.6656          0.7119               0.2654   \n",
       "1           0.1238            0.1866          0.2416               0.1860   \n",
       "\n",
       "  worst symmetry worst fractal dimension target  \n",
       "0         0.4601                 0.11890      0  \n",
       "1         0.2750                 0.08902      0  \n",
       "\n",
       "[2 rows x 31 columns]"
      ]
     },
     "execution_count": 4,
     "metadata": {},
     "output_type": "execute_result"
    }
   ],
   "source": [
    "# Convert dictionary to a user-friendly tabular format\n",
    "df = pd.DataFrame(cancer.data, columns=[cancer.feature_names])\n",
    "\n",
    "# Add a target column to our table and fill it with read-in target data\n",
    "df['target'] = cancer.target\n",
    "df.head(2)"
   ]
  },
  {
   "cell_type": "markdown",
   "id": "78046bb8-2389-491a-8981-7dad550ea359",
   "metadata": {},
   "source": [
    "**Start applying machine learning model**"
   ]
  },
  {
   "cell_type": "code",
   "execution_count": 6,
   "id": "253e477c-b120-40d4-aca5-cc73d619bf8a",
   "metadata": {},
   "outputs": [],
   "source": [
    "# load data in X and target column in y\n",
    "X,y = load_breast_cancer(return_X_y = True)"
   ]
  },
  {
   "cell_type": "code",
   "execution_count": 7,
   "id": "6ec1a2ec-21eb-42dc-9f45-18198c8d4c2b",
   "metadata": {},
   "outputs": [],
   "source": [
    "# We will split the dataset in training (60%) & testing (20%) & validation sets (20%)\n",
    "X_train, X_test, y_train, y_test = train_test_split(X, y, test_size=0.2, random_state=42)\n",
    "\n",
    "## Further split the 80% training set separating 1/4 of it for later model validation on unseen data\n",
    "X_val, X_test, y_val, y_test = train_test_split(X_train, y_train, test_size=0.25, random_state=42)"
   ]
  },
  {
   "cell_type": "code",
   "execution_count": 8,
   "id": "13f64cc7-ed3f-4e59-b531-28cc9950d4f2",
   "metadata": {},
   "outputs": [],
   "source": [
    "# Standardize the numerical features\n",
    "# This sk-learn class computes the mean and SD on a training set and is able to later re-apply the same transformation on the testing set\n",
    "# Apply scaling on testing data, without leaking training data\n",
    "# Ensure the validation dataset is preprocessed similarly to the training and test sets and the target variable is consistent with the model's output\n",
    "\n",
    "scaler = preprocessing.StandardScaler().fit(X_train)\n",
    "X_train_scaled = scaler.transform(X_train)\n",
    "X_test_scaled = scaler.transform(X_test)\n",
    "X_val_scaled = scaler.transform(X_val)"
   ]
  },
  {
   "cell_type": "markdown",
   "id": "32d20e94-a20d-4ca9-b902-7045dba061ed",
   "metadata": {},
   "source": [
    "**Create a logistic regression model**"
   ]
  },
  {
   "cell_type": "code",
   "execution_count": 9,
   "id": "6d477947-d1fe-4b11-b940-18c3365cceaa",
   "metadata": {},
   "outputs": [],
   "source": [
    "model = LogisticRegression()"
   ]
  },
  {
   "cell_type": "markdown",
   "id": "49c9f41e-f0a9-4fba-9912-2e64c0e97b51",
   "metadata": {},
   "source": [
    "**Train the model on the training data and predict on the test data**"
   ]
  },
  {
   "cell_type": "code",
   "execution_count": 10,
   "id": "b850cd29-f9f0-4866-b298-973c9ae26b1a",
   "metadata": {},
   "outputs": [],
   "source": [
    "y_pred = model.fit(X_train_scaled, y_train).predict(X_test_scaled)"
   ]
  },
  {
   "cell_type": "markdown",
   "id": "8771fe36-92d5-4d7a-bc80-497b60c17b61",
   "metadata": {},
   "source": [
    "**Evaluate the model**"
   ]
  },
  {
   "cell_type": "markdown",
   "id": "076ad569-1b0f-4e3d-acc9-ca26fffb1694",
   "metadata": {},
   "source": [
    "Unlike in multiple regression, we do not use MSE, instead we use the Confusion Matrix to see if our model is confused. Confusion matrix is for a given level of threshold probability, eg .5."
   ]
  },
  {
   "cell_type": "markdown",
   "id": "ffb91b62-3be7-4159-9666-7ea561face33",
   "metadata": {},
   "source": [
    "Accuracy: Overall proportion of correct predictions.  \n",
    "Precision: Proportion of positive predictions that are truly positive.  \n",
    "Recall: Proportion of actual positives that are correctly identified.  \n",
    "F1-score: Harmonic mean of precision and recall.  \n",
    "Confusion Matrix: Provides a detailed breakdown of correct and incorrect predictions.  \n",
    "ROC curve and AUC: Visualize the model's performance across different classification thresholds.  "
   ]
  },
  {
   "attachments": {},
   "cell_type": "markdown",
   "id": "d53fec3f-ce73-46fb-a0c9-8576422bdc1c",
   "metadata": {},
   "source": [
    "<img src=\"EvaluateLogisticRegression.JPG\" alt=\"Drawing\" style=\"width: 400px;\"/>  <img src=\"Evaluate-confusion-matrix.png\" alt=\"Drawing\" style=\"width: 350px;\"/>"
   ]
  },
  {
   "cell_type": "code",
   "execution_count": 11,
   "id": "3bc7b370-0d68-4c37-9069-bd400154b2c0",
   "metadata": {},
   "outputs": [
    {
     "data": {
      "text/plain": [
       "array([[42,  2],\n",
       "       [ 1, 69]], dtype=int64)"
      ]
     },
     "execution_count": 11,
     "metadata": {},
     "output_type": "execute_result"
    }
   ],
   "source": [
    "cm  = confusion_matrix(y_test,y_pred)\n",
    "cm"
   ]
  },
  {
   "cell_type": "code",
   "execution_count": 19,
   "id": "c0a3cac4-15dc-479e-a7bc-9692a09af9d7",
   "metadata": {},
   "outputs": [
    {
     "data": {
      "text/plain": [
       "Text(0.5, 0.98, 'Plot of confusion matrix')"
      ]
     },
     "execution_count": 19,
     "metadata": {},
     "output_type": "execute_result"
    },
    {
     "data": {
      "image/png": "[encoded data removed]",
      "text/plain": [
       "<Figure size 300x300 with 2 Axes>"
      ]
     },
     "metadata": {},
     "output_type": "display_data"
    }
   ],
   "source": [
    "cmd = ConfusionMatrixDisplay(confusion_matrix = cm, display_labels=model.classes_)\n",
    "cmd.plot()\n",
    "fig = cmd.figure_\n",
    "fig.set_figwidth(3)\n",
    "fig.set_figheight(3) \n",
    "fig.suptitle('Plot of confusion matrix')"
   ]
  },
  {
   "cell_type": "code",
   "execution_count": 20,
   "id": "bee63e0c-4163-4967-b5d7-6b02216852d1",
   "metadata": {},
   "outputs": [
    {
     "name": "stdout",
     "output_type": "stream",
     "text": [
      "accuracy score: 0.9736842105263158\n",
      "classifcation report : \n",
      "                precision    recall  f1-score   support\n",
      "\n",
      "           0       0.98      0.95      0.97        44\n",
      "           1       0.97      0.99      0.98        70\n",
      "\n",
      "    accuracy                           0.97       114\n",
      "   macro avg       0.97      0.97      0.97       114\n",
      "weighted avg       0.97      0.97      0.97       114\n",
      "\n"
     ]
    }
   ],
   "source": [
    "# F1 scores are typically looked at when we want to compare different models which have different precision and recall scores.\n",
    "accuracy = accuracy_score(y_test, y_pred)\n",
    "classification_report = classification_report(y_test,y_pred)\n",
    "\n",
    "print(f'accuracy score: {accuracy}')\n",
    "print(f'classifcation report : \\n  {classification_report}')"
   ]
  },
  {
   "cell_type": "markdown",
   "id": "427bdac4-1844-4f89-a99d-fd8979010966",
   "metadata": {},
   "source": [
    "**Interpretation**"
   ]
  },
  {
   "cell_type": "markdown",
   "id": "f9783c2a-2462-4950-8aac-d739fba6b624",
   "metadata": {},
   "source": [
    "The accuracy score of 97% indicates that the model correctly predicted (benign or malignant) 97 out of 100 cases.  \n",
    "Note that in very rare event detection, the model will likely predict 0 rare events or true positives (tumors) and a lot of true negatives, but the accuracy (true positives + true negatives against all confusion matrix) will be 99.9% when we have failed to predict even a single tumor. Therefore in rare event detection, accuracy as a metric, though convenient and easy to understand, may be misleading.  \n",
    "The precision, recall, and F1 scores were >= 95%, indicating that the model performed well. It had just 2 false positives and 1 false negative, and 69 true positives."
   ]
  },
  {
   "cell_type": "markdown",
   "id": "45a16a1e-4b05-49de-befb-68122664654e",
   "metadata": {},
   "source": [
    "**AUC/ROC curve**"
   ]
  },
  {
   "cell_type": "markdown",
   "id": "c8ac4459-6be6-473b-a1b9-f886656dece2",
   "metadata": {},
   "source": [
    "To visualize the performance of the multi-class classification problem, we use the AUC (Area Under The Curve) and ROC (Receiver Operating Characteristics) curve, one of the most important evaluation metrics for checking a classification model’s performance.  \n",
    "**ROC** is a probability curve or basically a separator of two overlapping probability distributions for positive and negative cases. If there is perfect/large overlap, then cases are less separable. The sum of the TP and FN rate is 1 (all true cases we either predict as true or false); therefore when the TP rate increases, the FN rate decreases. The TPR and FPR are calculated for each threshold level and plotted as a curve. A ideal test would proceed straight up the Y axis to the top and then run horizontally to the right. However, a perfect test is truly only a theoretical possibility.  \n",
    "  \n",
    "**AUC** is the probability of ranking a random positive case higher than a random negative case (especially in medicine, false positives are preferred over false negatives). When ROC is a diagonal line then area under line AUC =.5  indicating that the model is not better than random assignment for prediction at any threshold and therefore completely ineffective in finding positive values.  . \n",
    "  \n",
    "See a sample ROC curve: \n",
    "At a more stringent than .5 threshold of .65 we detect strong true cases and TP rises faster than FP. At a more relaxed threshold, false positives start to appear. The .5 threshold (with TP=.7 and FP=.2) is closest to the upper left corner and hence it minimizes the overall classification error. Further reductions in threshold lead to a smaller rate of increase in TP, however the FP or misclassification error really starts to increase."
   ]
  },
  {
   "attachments": {},
   "cell_type": "markdown",
   "id": "929bcec0-e1de-4d4f-b7b2-4c854b72ea35",
   "metadata": {},
   "source": [
    "<img src=\"ROC-curve.jpg\" alt=\"Drawing\" style=\"width: 900px;\"/>"
   ]
  },
  {
   "cell_type": "code",
   "execution_count": 28,
   "id": "ad572b05-7332-4add-a656-6d279c9ab078",
   "metadata": {},
   "outputs": [
    {
     "data": {
      "image/png": "[encoded data removed]",
      "text/plain": [
       "<Figure size 640x480 with 1 Axes>"
      ]
     },
     "metadata": {},
     "output_type": "display_data"
    }
   ],
   "source": [
    "## ROC curve for this dataset\n",
    "fpr, tpr, thresholds = metrics.roc_curve(y_test, y_pred)\n",
    "roc_auc = metrics.auc(fpr, tpr)\n",
    " \n",
    "RocCurveDisplay(fpr=fpr, tpr=tpr, roc_auc=roc_auc,\n",
    "                                  estimator_name='Logistic regression classifier').plot()\n",
    "plt.plot([0, 1], [0, 1], 'k--', label='Random guess')\n",
    "plt.xlim([0.0, 1.0])\n",
    "plt.ylim([0.0, 1.05])\n",
    "plt.title('ROC Curve for Breast Cancer Classification')\n",
    "plt.legend()\n",
    "plt.show()"
   ]
  },
  {
   "cell_type": "markdown",
   "id": "835eb408-d238-456e-b7ef-93bc83477117",
   "metadata": {},
   "source": [
    "Considering the context in which this model is intended to be used, is necessary to determine a decision threshold that delivers the optimal trade-off between false positive rate (FPR) and true positive rate (TPR) for a specific use case."
   ]
  },
  {
   "cell_type": "markdown",
   "id": "483584f5-f8b1-4dab-9c09-0f8e0b1ce068",
   "metadata": {},
   "source": [
    "**Parameter tuning**  \n",
    "Sk-learn logistic regression or any classifier has parameters that can get optimized. Some common hyperparameters that can be tuned include the learning rate, regularization strength, batch size, and number of iterations.   "
   ]
  },
  {
   "cell_type": "markdown",
   "id": "9bd5846f-490b-4b6d-851a-0416cd0a053d",
   "metadata": {},
   "source": [
    "In order to create less complex (parsimonious) model when you have a large number of features, the Regularization techniques are used to address over-fitting and feature selection:  \n",
    "L1 Regularization (Lasso Regression)  \r\n",
    "L2 Regularization  (Ridge regression)."
   ]
  },
  {
   "cell_type": "markdown",
   "id": "2ab3ffab-f34e-4cae-988f-9401f602ddb6",
   "metadata": {},
   "source": [
    "The key difference is that Lasso shrinks the less important features' coefficients to zero thus removing some features (which works well for feature selection in case we have a huge number of features).  \n",
    "The parameter C in Logistic Regression Classifier is directly related to the regularization parameter λ but is inversely proportional to C=1/λ."
   ]
  },
  {
   "attachments": {
    "7b4ec9bb-8d81-4048-9a7e-5eb2e17ea421.png": {
     "image/png": "[encoded data removed]"
    }
   },
   "cell_type": "markdown",
   "id": "a781e01d-a1dc-4554-87f0-219f7e188ea0",
   "metadata": {},
   "source": [
    "![image.png](attachment:7b4ec9bb-8d81-4048-9a7e-5eb2e17ea421.png)"
   ]
  },
  {
   "cell_type": "code",
   "execution_count": 29,
   "id": "ad305650-f8a1-434d-8d34-f1c259ce7a01",
   "metadata": {},
   "outputs": [
    {
     "name": "stdout",
     "output_type": "stream",
     "text": [
      "{'C': 1.0, 'class_weight': None, 'dual': False, 'fit_intercept': True, 'intercept_scaling': 1, 'l1_ratio': None, 'max_iter': 100, 'multi_class': 'auto', 'n_jobs': None, 'penalty': 'l2', 'random_state': None, 'solver': 'lbfgs', 'tol': 0.0001, 'verbose': 0, 'warm_start': False}\n"
     ]
    }
   ],
   "source": [
    "# What parameters do we currently have?\n",
    "# When we created the model = LogisticRegression(), we did not change any default values.\n",
    "print(model.get_params())"
   ]
  },
  {
   "cell_type": "markdown",
   "id": "f745a907-f41f-45a3-96f6-4128ea8e84f4",
   "metadata": {},
   "source": [
    "C = 1, L2 Regularization (Ridge regression)."
   ]
  },
  {
   "cell_type": "markdown",
   "id": "555fee70-a050-4034-83dd-75513e8fe20d",
   "metadata": {},
   "source": [
    "**Create a grid of parameters to test.**  \n",
    "For logistic regression, this might include parameters like C (inverse of regularization strength), penalty (type of regularization, such as L1 or L2), and others.  \n",
    "The GridSearchCV is quite brutal as it tests everything with everything."
   ]
  },
  {
   "cell_type": "code",
   "execution_count": 32,
   "id": "f2bfb4d5-d309-4043-8c88-c34ceb886ef1",
   "metadata": {},
   "outputs": [],
   "source": [
    "parameters = [{'penalty' : ['l1', 'l2'],\n",
    "                'C' : [0.001, 0.01, 0.1, 1, 10, 100, 1000],\n",
    "                'solver' : ['newton-cg','liblinear','sag','saga'],\n",
    "##              'max_iter' : [100, 1000,2500, 5000]\n",
    "              }]\n",
    "\n",
    "cls= GridSearchCV(\n",
    "    estimator=LogisticRegression(), \n",
    "    param_grid=parameters,\n",
    "    scoring = 'accuracy',\n",
    "    cv = 3,\n",
    "    verbose = 2,\n",
    "    n_jobs = -1,\n",
    "    return_train_score = True)"
   ]
  },
  {
   "cell_type": "code",
   "execution_count": null,
   "id": "1baaa323-f5ff-4b4e-95b7-ca9904211a4d",
   "metadata": {},
   "outputs": [],
   "source": [
    "# Fit the best hyperameter tuned logistic Regression model to training data\n",
    "best_clf = cls.fit(X_train_scaled, y_train)"
   ]
  },
  {
   "cell_type": "code",
   "execution_count": 34,
   "id": "df880517-af79-4461-bc49-d7d027b9f5d9",
   "metadata": {},
   "outputs": [
    {
     "name": "stdout",
     "output_type": "stream",
     "text": [
      "Mean Accuracy: 0.976\n",
      "Config: {'C': 0.1, 'penalty': 'l1', 'solver': 'liblinear'}\n"
     ]
    }
   ],
   "source": [
    "print('Mean Accuracy: %.3f' % cls.best_score_)\n",
    "print('Config: %s' % cls.best_params_)"
   ]
  },
  {
   "cell_type": "markdown",
   "id": "4a8cb779-b9e6-419d-a178-1bd098efa519",
   "metadata": {},
   "source": [
    "**Make Predictions:**  \n",
    "Use the trained logistic regression model to make predictions on the third dataset."
   ]
  },
  {
   "cell_type": "code",
   "execution_count": 36,
   "id": "5ec3f1ef-814f-42ba-abbb-119edfafda82",
   "metadata": {},
   "outputs": [],
   "source": [
    "# We evaluate our model's ability to generalize to unseen data by scoring it against unseen validation data\n",
    "model = LogisticRegression(C = 10, penalty = 'l1', solver = 'liblinear')\n",
    "\n",
    "y_pred = model.fit(X_train_scaled, y_train).predict(X_val_scaled)"
   ]
  },
  {
   "cell_type": "code",
   "execution_count": 37,
   "id": "d1ac1b29-58f5-47e4-81cf-0893334b0c00",
   "metadata": {},
   "outputs": [
    {
     "name": "stdout",
     "output_type": "stream",
     "text": [
      "accuracy score: 0.9941348973607038\n",
      "classifcation report : \n",
      "                precision    recall  f1-score   support\n",
      "\n",
      "           0       0.99      0.99      0.99       125\n",
      "           1       1.00      1.00      1.00       216\n",
      "\n",
      "    accuracy                           0.99       341\n",
      "   macro avg       0.99      0.99      0.99       341\n",
      "weighted avg       0.99      0.99      0.99       341\n",
      "\n"
     ]
    }
   ],
   "source": [
    "accuracy = accuracy_score(y_val, y_pred)\n",
    "classification_report = classification_report(y_val,y_pred)\n",
    "\n",
    "print(f'accuracy score: {accuracy}')\n",
    "print(f'classifcation report : \\n  {classification_report}')"
   ]
  }
 ],
 "metadata": {
  "kernelspec": {
   "display_name": "Python 3 (ipykernel)",
   "language": "python",
   "name": "python3"
  },
  "language_info": {
   "codemirror_mode": {
    "name": "ipython",
    "version": 3
   },
   "file_extension": ".py",
   "mimetype": "text/x-python",
   "name": "python",
   "nbconvert_exporter": "python",
   "pygments_lexer": "ipython3",
   "version": "3.8.19"
  }
 },
 "nbformat": 4,
 "nbformat_minor": 5
}
